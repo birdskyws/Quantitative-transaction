{
 "cells": [
  {
   "cell_type": "markdown",
   "metadata": {},
   "source": [
    "## pandas 数据结构"
   ]
  },
  {
   "cell_type": "markdown",
   "metadata": {},
   "source": [
    "#### Series\n",
    "s = pd.Series(data,index=index)\n",
    "Series数据类型：list,ndarray,字典，常量"
   ]
  },
  {
   "cell_type": "code",
   "execution_count": 2,
   "metadata": {},
   "outputs": [
    {
     "name": "stdout",
     "output_type": "stream",
     "text": [
      "a    1.3456\n",
      "b    2.4440\n",
      "c    3.2220\n",
      "d    5.3222\n",
      "dtype: float64\n"
     ]
    }
   ],
   "source": [
    "import pandas as pd\n",
    "s = pd.Series([1.3456,2.444,3.222,5.3222],index=[\"a\",\"b\",\"c\",\"d\"])\n",
    "# [] list 对象\n",
    "print(s)"
   ]
  },
  {
   "cell_type": "code",
   "execution_count": 3,
   "metadata": {},
   "outputs": [
    {
     "name": "stdout",
     "output_type": "stream",
     "text": [
      "a         a\n",
      "b     2.444\n",
      "c     3.222\n",
      "d    5.3222\n",
      "dtype: object\n"
     ]
    }
   ],
   "source": [
    "s = pd.Series([\"a\",2.444,3.222,5.3222],index=[\"a\",\"b\",\"c\",\"d\"])\n",
    "# [] list包含string，类型转化为object\n",
    "print(s)"
   ]
  },
  {
   "cell_type": "code",
   "execution_count": 4,
   "metadata": {},
   "outputs": [
    {
     "name": "stdout",
     "output_type": "stream",
     "text": [
      "a    1\n",
      "b    2\n",
      "c    3\n",
      "d    5\n",
      "dtype: int8\n"
     ]
    }
   ],
   "source": [
    "s = pd.Series([1.3456,2.444,3.222,5.3222],index=[\"a\",\"b\",\"c\",\"d\"],dtype=\"int8\")\n",
    "# dtype指定对象类型\n",
    "print(s)"
   ]
  },
  {
   "cell_type": "code",
   "execution_count": 5,
   "metadata": {},
   "outputs": [
    {
     "name": "stdout",
     "output_type": "stream",
     "text": [
      "a   -0.478604\n",
      "b   -0.139564\n",
      "c    0.588565\n",
      "d    1.394299\n",
      "e    1.032450\n",
      "dtype: float64\n"
     ]
    }
   ],
   "source": [
    "#ndarray是numpy提供的数据对象\n",
    "import numpy as np\n",
    "s = pd.Series(np.random.randn(5),index=[\"a\",\"b\",\"c\",\"d\",\"e\"])\n",
    "print(s)"
   ]
  },
  {
   "cell_type": "code",
   "execution_count": 6,
   "metadata": {},
   "outputs": [
    {
     "name": "stdout",
     "output_type": "stream",
     "text": [
      "0   -0.509932\n",
      "1    0.911006\n",
      "2    0.849540\n",
      "3   -1.287050\n",
      "4   -0.725084\n",
      "dtype: float64\n"
     ]
    }
   ],
   "source": [
    "s = pd.Series(np.random.randn(5))\n",
    "print(s)"
   ]
  },
  {
   "cell_type": "code",
   "execution_count": 9,
   "metadata": {},
   "outputs": [
    {
     "name": "stdout",
     "output_type": "stream",
     "text": [
      "a    0\n",
      "b    1\n",
      "c    1\n",
      "dtype: int64\n",
      "a    0\n",
      "b    1\n",
      "c    1\n",
      "dtype: int64\n",
      "b    1\n",
      "c    1\n",
      "dtype: int64\n"
     ]
    }
   ],
   "source": [
    "#字典创建series对象\n",
    "s1 = pd.Series({\"a\":0,\"b\":1,\"c\":1})\n",
    "s2 = pd.Series({\"a\":0,\"b\":1,\"c\":1},index=[\"a\",\"b\",\"c\"])\n",
    "s3 = pd.Series({\"a\":0,\"b\":1,\"c\":1},index=[\"b\",\"c\"])\n",
    "print(s1)\n",
    "print(s2)\n",
    "print(s3)\n",
    "# 通过index实现行选择"
   ]
  },
  {
   "cell_type": "code",
   "execution_count": 10,
   "metadata": {},
   "outputs": [
    {
     "name": "stdout",
     "output_type": "stream",
     "text": [
      "c    5.0\n",
      "b    5.0\n",
      "a    5.0\n",
      "dtype: float64\n"
     ]
    }
   ],
   "source": [
    "s  = pd.Series(5.,index=[\"c\",\"b\",\"a\"])\n",
    "print(s)"
   ]
  },
  {
   "cell_type": "markdown",
   "metadata": {},
   "source": [
    "#### 访问Series对象"
   ]
  },
  {
   "cell_type": "code",
   "execution_count": 12,
   "metadata": {},
   "outputs": [
    {
     "name": "stdout",
     "output_type": "stream",
     "text": [
      "[0 1 1]\n"
     ]
    }
   ],
   "source": [
    "s = pd.Series({\"a\":0,\"b\":1,\"c\":1},index=[\"a\",\"b\",\"c\"])\n",
    "print(s.values)"
   ]
  },
  {
   "cell_type": "code",
   "execution_count": 13,
   "metadata": {},
   "outputs": [
    {
     "name": "stdout",
     "output_type": "stream",
     "text": [
      "Index(['a', 'b', 'c'], dtype='object')\n"
     ]
    }
   ],
   "source": [
    "print(s.index)"
   ]
  },
  {
   "cell_type": "code",
   "execution_count": 16,
   "metadata": {},
   "outputs": [
    {
     "name": "stdout",
     "output_type": "stream",
     "text": [
      "0\n",
      "1\n"
     ]
    }
   ],
   "source": [
    "print(s.a)\n",
    "print(s[\"b\"])"
   ]
  },
  {
   "cell_type": "code",
   "execution_count": 17,
   "metadata": {},
   "outputs": [
    {
     "name": "stdout",
     "output_type": "stream",
     "text": [
      "b    1\n",
      "c    1\n",
      "dtype: int64\n"
     ]
    }
   ],
   "source": [
    "print(s[[\"b\",\"c\"]])"
   ]
  },
  {
   "cell_type": "code",
   "execution_count": 18,
   "metadata": {},
   "outputs": [
    {
     "name": "stdout",
     "output_type": "stream",
     "text": [
      "a    0\n",
      "b    1\n",
      "dtype: int64\n"
     ]
    }
   ],
   "source": [
    "print(s[:2])"
   ]
  },
  {
   "cell_type": "markdown",
   "metadata": {},
   "source": [
    "## DataFrame 对象"
   ]
  },
  {
   "cell_type": "markdown",
   "metadata": {},
   "source": [
    "#### 生成方法 df = pd.DataFrame(data,index,column)\n",
    "data数据类型，列表组成的字典，嵌套列表，Series组成的字典，字典组成的字典，二维ndarray"
   ]
  },
  {
   "cell_type": "code",
   "execution_count": 19,
   "metadata": {},
   "outputs": [
    {
     "name": "stdout",
     "output_type": "stream",
     "text": [
      "   one  two\n",
      "0  1.0  2.0\n",
      "1  2.0  3.0\n",
      "2  3.0  4.0\n",
      "3  5.0  5.0\n"
     ]
    }
   ],
   "source": [
    "df = pd.DataFrame({\"one\":[1.,2.,3.,5.],\"two\":[2.,3.,4.,5.]})\n",
    "print(df)"
   ]
  },
  {
   "cell_type": "code",
   "execution_count": 22,
   "metadata": {},
   "outputs": [
    {
     "name": "stdout",
     "output_type": "stream",
     "text": [
      "   one  two  three  four\n",
      "a  1.0  2.0    3.0   5.0\n",
      "b  2.0  3.0    4.0   5.0\n"
     ]
    }
   ],
   "source": [
    "df = pd.DataFrame([[1.,2.,3.,5.],[2.,3.,4.,5.]],index=[\"a\",\"b\"],columns=[\"one\",\"two\",\"three\",\"four\"])\n",
    "print(df)"
   ]
  },
  {
   "cell_type": "code",
   "execution_count": 26,
   "metadata": {},
   "outputs": [
    {
     "name": "stdout",
     "output_type": "stream",
     "text": [
      "[(0, 0., b'') (0, 0., b'')]\n"
     ]
    },
    {
     "data": {
      "text/plain": [
       "array([(0, 0., b''), (0, 0., b'')],\n",
       "      dtype=[('A', '<i4'), ('B', '<f4'), ('C', 'S10')])"
      ]
     },
     "execution_count": 26,
     "metadata": {},
     "output_type": "execute_result"
    }
   ],
   "source": [
    "# 用numpy函数生成 ndarray数据结构\n",
    "data = np.zeros((2,),dtype=[(\"A\",\"i4\"),(\"B\",\"f4\"),(\"C\",\"a10\")])\n",
    "print(data)\n",
    "data"
   ]
  },
  {
   "cell_type": "markdown",
   "metadata": {},
   "source": [
    "# <font color=\"red\">ndarray slice访问方法</font> ？"
   ]
  },
  {
   "cell_type": "code",
   "execution_count": 59,
   "metadata": {},
   "outputs": [
    {
     "name": "stdout",
     "output_type": "stream",
     "text": [
      "   A    B         C\n",
      "0  1  2.0  b'hello'\n",
      "1  3  4.0  b'world'\n"
     ]
    }
   ],
   "source": [
    "# 用 ndarray对象生成 DataFrame结构\n",
    "data[:] = [(1.,2.,\"hello\"),(3.,4.,\"world\")]\n",
    "# 注意 ndarray 赋值 [[1.,2.,\"hello\"],[3.,4.,\"world\"]] 会报错\n",
    "df = pd.DataFrame(data)\n",
    "print(df)"
   ]
  },
  {
   "cell_type": "code",
   "execution_count": 61,
   "metadata": {},
   "outputs": [
    {
     "name": "stdout",
     "output_type": "stream",
     "text": [
      "        A    B         C\n",
      "first   1  2.0  b'hello'\n",
      "second  3  4.0  b'world'\n",
      "          B  A         C\n",
      "first   2.0  1  b'hello'\n",
      "second  4.0  3  b'world'\n"
     ]
    }
   ],
   "source": [
    "df = pd.DataFrame(data,index=['first',\"second\"])\n",
    "print(df)\n",
    "df = pd.DataFrame(data,index=['first',\"second\"],columns=['B','A','C'])\n",
    "print(df)\n",
    "# columns可以指定列索引的位置"
   ]
  },
  {
   "cell_type": "markdown",
   "metadata": {},
   "source": [
    "\n",
    "#### <font color=\"red\">以字典形式创建dataframe</font>\n",
    "- series与list形式很像，series可以指定index。\n",
    "- list 和 字典 区别：字典生成的df是按列索引的；list生成df按行索引。 \n",
    "- 当生成pd时，会融合行index。"
   ]
  },
  {
   "cell_type": "code",
   "execution_count": 64,
   "metadata": {},
   "outputs": [
    {
     "name": "stdout",
     "output_type": "stream",
     "text": [
      "   one  two\n",
      "a  1.0  NaN\n",
      "b  2.0  2.0\n",
      "c  3.0  3.0\n",
      "d  NaN  4.0\n",
      "   one  two\n",
      "a  1.0  NaN\n",
      "b  2.0  2.0\n",
      "c  3.0  3.0\n",
      "   one  two\n",
      "a  1.0  NaN\n",
      "b  2.0  2.0\n",
      "c  3.0  3.0\n",
      "   two three\n",
      "a  NaN   NaN\n",
      "b  2.0   NaN\n",
      "c  3.0   NaN\n"
     ]
    }
   ],
   "source": [
    "data = {'one':pd.Series([1.,2.,3.],index=[\"a\",\"b\",\"c\"]),\n",
    "        \"two\":pd.Series([2.,3.,4.],index=[\"b\",\"c\",\"d\"])}\n",
    "df = pd.DataFrame(data)\n",
    "print(df)\n",
    "df = pd.DataFrame(data,index=[\"a\",\"b\",\"c\"])\n",
    "print(df)\n",
    "df = pd.DataFrame(data,index=[\"a\",\"b\",\"c\"])\n",
    "print(df)\n",
    "df = pd.DataFrame(data,index=[\"a\",\"b\",\"c\"],columns=[\"two\",\"three\"])\n",
    "print(df)"
   ]
  },
  {
   "cell_type": "code",
   "execution_count": 68,
   "metadata": {},
   "outputs": [
    {
     "name": "stdout",
     "output_type": "stream",
     "text": [
      "   a  b    c\n",
      "0  1  2  NaN\n",
      "1  2  3  5.0\n",
      "        a  b\n",
      "first   1  2\n",
      "second  2  3\n"
     ]
    }
   ],
   "source": [
    "# 字典 的 列表 形式 创建 df\n",
    "# 生成的df 可以按照 list 生成的dataframe数据结构形式\n",
    "data = [{\"a\":1,\"b\":2},{\"a\":2,\"b\":3,\"c\":5}]\n",
    "df = pd.DataFrame(data)\n",
    "print(df)\n",
    "df = pd.DataFrame(data,index=[\"first\",\"second\"],columns=[\"a\",\"b\"])\n",
    "print(df)"
   ]
  },
  {
   "cell_type": "code",
   "execution_count": null,
   "metadata": {},
   "outputs": [],
   "source": []
  }
 ],
 "metadata": {
  "kernelspec": {
   "display_name": "Python 3",
   "language": "python",
   "name": "python3"
  },
  "language_info": {
   "codemirror_mode": {
    "name": "ipython",
    "version": 3
   },
   "file_extension": ".py",
   "mimetype": "text/x-python",
   "name": "python",
   "nbconvert_exporter": "python",
   "pygments_lexer": "ipython3",
   "version": "3.6.4"
  }
 },
 "nbformat": 4,
 "nbformat_minor": 2
}
