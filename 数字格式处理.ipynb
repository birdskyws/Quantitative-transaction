{
 "cells": [
  {
   "cell_type": "code",
   "execution_count": 1,
   "metadata": {},
   "outputs": [],
   "source": [
    "import numpy as np\n",
    "import pandas as pd"
   ]
  },
  {
   "cell_type": "code",
   "execution_count": 2,
   "metadata": {},
   "outputs": [],
   "source": [
    "df = pd.read_csv(\"stock.csv\",index_col=0)"
   ]
  },
  {
   "cell_type": "code",
   "execution_count": 3,
   "metadata": {},
   "outputs": [
    {
     "data": {
      "text/html": [
       "<div>\n",
       "<style scoped>\n",
       "    .dataframe tbody tr th:only-of-type {\n",
       "        vertical-align: middle;\n",
       "    }\n",
       "\n",
       "    .dataframe tbody tr th {\n",
       "        vertical-align: top;\n",
       "    }\n",
       "\n",
       "    .dataframe thead th {\n",
       "        text-align: right;\n",
       "    }\n",
       "</style>\n",
       "<table border=\"1\" class=\"dataframe\">\n",
       "  <thead>\n",
       "    <tr style=\"text-align: right;\">\n",
       "      <th></th>\n",
       "      <th>High</th>\n",
       "      <th>Low</th>\n",
       "      <th>Open</th>\n",
       "      <th>Close</th>\n",
       "      <th>Volume</th>\n",
       "      <th>Adj Close</th>\n",
       "    </tr>\n",
       "    <tr>\n",
       "      <th>Date</th>\n",
       "      <th></th>\n",
       "      <th></th>\n",
       "      <th></th>\n",
       "      <th></th>\n",
       "      <th></th>\n",
       "      <th></th>\n",
       "    </tr>\n",
       "  </thead>\n",
       "  <tbody>\n",
       "    <tr>\n",
       "      <th>2018-01-02</th>\n",
       "      <td>0.000000</td>\n",
       "      <td>16.214300</td>\n",
       "      <td>16.214300</td>\n",
       "      <td>17.671400</td>\n",
       "      <td>57186488.0</td>\n",
       "      <td>17.571602</td>\n",
       "    </tr>\n",
       "    <tr>\n",
       "      <th>2018-01-03</th>\n",
       "      <td>17.885700</td>\n",
       "      <td>17.378599</td>\n",
       "      <td>17.492901</td>\n",
       "      <td>17.578600</td>\n",
       "      <td>41095849.0</td>\n",
       "      <td>17.479324</td>\n",
       "    </tr>\n",
       "    <tr>\n",
       "      <th>2018-01-04</th>\n",
       "      <td>19.142900</td>\n",
       "      <td>17.864300</td>\n",
       "      <td>17.864300</td>\n",
       "      <td>18.871401</td>\n",
       "      <td>52611597.0</td>\n",
       "      <td>18.764826</td>\n",
       "    </tr>\n",
       "    <tr>\n",
       "      <th>2018-01-05</th>\n",
       "      <td>19.371401</td>\n",
       "      <td>18.357100</td>\n",
       "      <td>18.592899</td>\n",
       "      <td>19.092899</td>\n",
       "      <td>35511195.0</td>\n",
       "      <td>18.985073</td>\n",
       "    </tr>\n",
       "    <tr>\n",
       "      <th>2018-01-08</th>\n",
       "      <td>20.285700</td>\n",
       "      <td>18.571400</td>\n",
       "      <td>18.571400</td>\n",
       "      <td>20.164301</td>\n",
       "      <td>34920065.0</td>\n",
       "      <td>20.050423</td>\n",
       "    </tr>\n",
       "  </tbody>\n",
       "</table>\n",
       "</div>"
      ],
      "text/plain": [
       "                 High        Low       Open      Close      Volume  Adj Close\n",
       "Date                                                                         \n",
       "2018-01-02   0.000000  16.214300  16.214300  17.671400  57186488.0  17.571602\n",
       "2018-01-03  17.885700  17.378599  17.492901  17.578600  41095849.0  17.479324\n",
       "2018-01-04  19.142900  17.864300  17.864300  18.871401  52611597.0  18.764826\n",
       "2018-01-05  19.371401  18.357100  18.592899  19.092899  35511195.0  18.985073\n",
       "2018-01-08  20.285700  18.571400  18.571400  20.164301  34920065.0  20.050423"
      ]
     },
     "execution_count": 3,
     "metadata": {},
     "output_type": "execute_result"
    }
   ],
   "source": [
    "df.head()"
   ]
  },
  {
   "cell_type": "code",
   "execution_count": 4,
   "metadata": {},
   "outputs": [],
   "source": [
    "df = df.applymap(lambda x:'%0.2f' % x)"
   ]
  },
  {
   "cell_type": "code",
   "execution_count": 5,
   "metadata": {},
   "outputs": [
    {
     "data": {
      "text/plain": [
       "Index(['High', 'Low', 'Open', 'Close', 'Volume', 'Adj Close'], dtype='object')"
      ]
     },
     "execution_count": 5,
     "metadata": {},
     "output_type": "execute_result"
    }
   ],
   "source": [
    "df.columns"
   ]
  },
  {
   "cell_type": "code",
   "execution_count": 6,
   "metadata": {},
   "outputs": [],
   "source": [
    "# TypeError: ('must be real number, not str', 'occurred at index Volume')\n",
    "df.Volume = df.loc[:,['Volume']].astype('float64')"
   ]
  },
  {
   "cell_type": "code",
   "execution_count": 7,
   "metadata": {},
   "outputs": [],
   "source": [
    "df.Volume = df.loc[:,['Volume']].applymap(lambda x:'%0.0f'%x)"
   ]
  },
  {
   "cell_type": "code",
   "execution_count": 8,
   "metadata": {},
   "outputs": [
    {
     "data": {
      "text/html": [
       "<div>\n",
       "<style scoped>\n",
       "    .dataframe tbody tr th:only-of-type {\n",
       "        vertical-align: middle;\n",
       "    }\n",
       "\n",
       "    .dataframe tbody tr th {\n",
       "        vertical-align: top;\n",
       "    }\n",
       "\n",
       "    .dataframe thead th {\n",
       "        text-align: right;\n",
       "    }\n",
       "</style>\n",
       "<table border=\"1\" class=\"dataframe\">\n",
       "  <thead>\n",
       "    <tr style=\"text-align: right;\">\n",
       "      <th></th>\n",
       "      <th>High</th>\n",
       "      <th>Low</th>\n",
       "      <th>Open</th>\n",
       "      <th>Close</th>\n",
       "      <th>Volume</th>\n",
       "      <th>Adj Close</th>\n",
       "    </tr>\n",
       "    <tr>\n",
       "      <th>Date</th>\n",
       "      <th></th>\n",
       "      <th></th>\n",
       "      <th></th>\n",
       "      <th></th>\n",
       "      <th></th>\n",
       "      <th></th>\n",
       "    </tr>\n",
       "  </thead>\n",
       "  <tbody>\n",
       "    <tr>\n",
       "      <th>2018-01-02</th>\n",
       "      <td>0.00</td>\n",
       "      <td>16.21</td>\n",
       "      <td>16.21</td>\n",
       "      <td>17.67</td>\n",
       "      <td>57186488</td>\n",
       "      <td>17.57</td>\n",
       "    </tr>\n",
       "    <tr>\n",
       "      <th>2018-01-03</th>\n",
       "      <td>17.89</td>\n",
       "      <td>17.38</td>\n",
       "      <td>17.49</td>\n",
       "      <td>17.58</td>\n",
       "      <td>41095849</td>\n",
       "      <td>17.48</td>\n",
       "    </tr>\n",
       "    <tr>\n",
       "      <th>2018-01-04</th>\n",
       "      <td>19.14</td>\n",
       "      <td>17.86</td>\n",
       "      <td>17.86</td>\n",
       "      <td>18.87</td>\n",
       "      <td>52611597</td>\n",
       "      <td>18.76</td>\n",
       "    </tr>\n",
       "    <tr>\n",
       "      <th>2018-01-05</th>\n",
       "      <td>19.37</td>\n",
       "      <td>18.36</td>\n",
       "      <td>18.59</td>\n",
       "      <td>19.09</td>\n",
       "      <td>35511195</td>\n",
       "      <td>18.99</td>\n",
       "    </tr>\n",
       "    <tr>\n",
       "      <th>2018-01-08</th>\n",
       "      <td>20.29</td>\n",
       "      <td>18.57</td>\n",
       "      <td>18.57</td>\n",
       "      <td>20.16</td>\n",
       "      <td>34920065</td>\n",
       "      <td>20.05</td>\n",
       "    </tr>\n",
       "  </tbody>\n",
       "</table>\n",
       "</div>"
      ],
      "text/plain": [
       "             High    Low   Open  Close    Volume Adj Close\n",
       "Date                                                      \n",
       "2018-01-02   0.00  16.21  16.21  17.67  57186488     17.57\n",
       "2018-01-03  17.89  17.38  17.49  17.58  41095849     17.48\n",
       "2018-01-04  19.14  17.86  17.86  18.87  52611597     18.76\n",
       "2018-01-05  19.37  18.36  18.59  19.09  35511195     18.99\n",
       "2018-01-08  20.29  18.57  18.57  20.16  34920065     20.05"
      ]
     },
     "execution_count": 8,
     "metadata": {},
     "output_type": "execute_result"
    }
   ],
   "source": [
    "df.head()"
   ]
  },
  {
   "cell_type": "code",
   "execution_count": 9,
   "metadata": {},
   "outputs": [],
   "source": [
    "df2 = pd.read_csv(\"stock.csv\",index_col=0)\n",
    "df2 = df2.round(2)\n",
    "df2.Volume = df2.Volume.astype(int)"
   ]
  },
  {
   "cell_type": "code",
   "execution_count": 10,
   "metadata": {},
   "outputs": [
    {
     "data": {
      "text/html": [
       "<div>\n",
       "<style scoped>\n",
       "    .dataframe tbody tr th:only-of-type {\n",
       "        vertical-align: middle;\n",
       "    }\n",
       "\n",
       "    .dataframe tbody tr th {\n",
       "        vertical-align: top;\n",
       "    }\n",
       "\n",
       "    .dataframe thead th {\n",
       "        text-align: right;\n",
       "    }\n",
       "</style>\n",
       "<table border=\"1\" class=\"dataframe\">\n",
       "  <thead>\n",
       "    <tr style=\"text-align: right;\">\n",
       "      <th></th>\n",
       "      <th>High</th>\n",
       "      <th>Low</th>\n",
       "      <th>Open</th>\n",
       "      <th>Close</th>\n",
       "      <th>Volume</th>\n",
       "      <th>Adj Close</th>\n",
       "    </tr>\n",
       "    <tr>\n",
       "      <th>Date</th>\n",
       "      <th></th>\n",
       "      <th></th>\n",
       "      <th></th>\n",
       "      <th></th>\n",
       "      <th></th>\n",
       "      <th></th>\n",
       "    </tr>\n",
       "  </thead>\n",
       "  <tbody>\n",
       "    <tr>\n",
       "      <th>2018-01-02</th>\n",
       "      <td>0.00</td>\n",
       "      <td>16.21</td>\n",
       "      <td>16.21</td>\n",
       "      <td>17.67</td>\n",
       "      <td>57186488</td>\n",
       "      <td>17.57</td>\n",
       "    </tr>\n",
       "    <tr>\n",
       "      <th>2018-01-03</th>\n",
       "      <td>17.89</td>\n",
       "      <td>17.38</td>\n",
       "      <td>17.49</td>\n",
       "      <td>17.58</td>\n",
       "      <td>41095849</td>\n",
       "      <td>17.48</td>\n",
       "    </tr>\n",
       "    <tr>\n",
       "      <th>2018-01-04</th>\n",
       "      <td>19.14</td>\n",
       "      <td>17.86</td>\n",
       "      <td>17.86</td>\n",
       "      <td>18.87</td>\n",
       "      <td>52611597</td>\n",
       "      <td>18.76</td>\n",
       "    </tr>\n",
       "    <tr>\n",
       "      <th>2018-01-05</th>\n",
       "      <td>19.37</td>\n",
       "      <td>18.36</td>\n",
       "      <td>18.59</td>\n",
       "      <td>19.09</td>\n",
       "      <td>35511195</td>\n",
       "      <td>18.99</td>\n",
       "    </tr>\n",
       "    <tr>\n",
       "      <th>2018-01-08</th>\n",
       "      <td>20.29</td>\n",
       "      <td>18.57</td>\n",
       "      <td>18.57</td>\n",
       "      <td>20.16</td>\n",
       "      <td>34920065</td>\n",
       "      <td>20.05</td>\n",
       "    </tr>\n",
       "  </tbody>\n",
       "</table>\n",
       "</div>"
      ],
      "text/plain": [
       "             High    Low   Open  Close    Volume  Adj Close\n",
       "Date                                                       \n",
       "2018-01-02   0.00  16.21  16.21  17.67  57186488      17.57\n",
       "2018-01-03  17.89  17.38  17.49  17.58  41095849      17.48\n",
       "2018-01-04  19.14  17.86  17.86  18.87  52611597      18.76\n",
       "2018-01-05  19.37  18.36  18.59  19.09  35511195      18.99\n",
       "2018-01-08  20.29  18.57  18.57  20.16  34920065      20.05"
      ]
     },
     "execution_count": 10,
     "metadata": {},
     "output_type": "execute_result"
    }
   ],
   "source": [
    "df2.head()"
   ]
  },
  {
   "cell_type": "code",
   "execution_count": 11,
   "metadata": {},
   "outputs": [
    {
     "data": {
      "text/html": [
       "<div>\n",
       "<style scoped>\n",
       "    .dataframe tbody tr th:only-of-type {\n",
       "        vertical-align: middle;\n",
       "    }\n",
       "\n",
       "    .dataframe tbody tr th {\n",
       "        vertical-align: top;\n",
       "    }\n",
       "\n",
       "    .dataframe thead th {\n",
       "        text-align: right;\n",
       "    }\n",
       "</style>\n",
       "<table border=\"1\" class=\"dataframe\">\n",
       "  <thead>\n",
       "    <tr style=\"text-align: right;\">\n",
       "      <th></th>\n",
       "      <th>High</th>\n",
       "      <th>Low</th>\n",
       "      <th>Open</th>\n",
       "      <th>Close</th>\n",
       "      <th>Volume</th>\n",
       "      <th>Adj Close</th>\n",
       "    </tr>\n",
       "    <tr>\n",
       "      <th>Date</th>\n",
       "      <th></th>\n",
       "      <th></th>\n",
       "      <th></th>\n",
       "      <th></th>\n",
       "      <th></th>\n",
       "      <th></th>\n",
       "    </tr>\n",
       "  </thead>\n",
       "  <tbody>\n",
       "    <tr>\n",
       "      <th>2018-01-02</th>\n",
       "      <td>0.0</td>\n",
       "      <td>16.21</td>\n",
       "      <td>16.21</td>\n",
       "      <td>17.67</td>\n",
       "      <td>57186488</td>\n",
       "      <td>17.57</td>\n",
       "    </tr>\n",
       "  </tbody>\n",
       "</table>\n",
       "</div>"
      ],
      "text/plain": [
       "            High    Low   Open  Close    Volume  Adj Close\n",
       "Date                                                      \n",
       "2018-01-02   0.0  16.21  16.21  17.67  57186488      17.57"
      ]
     },
     "execution_count": 11,
     "metadata": {},
     "output_type": "execute_result"
    }
   ],
   "source": [
    "df2.loc[df2.High==0]"
   ]
  },
  {
   "cell_type": "code",
   "execution_count": 12,
   "metadata": {},
   "outputs": [],
   "source": [
    "df2.loc[df2.loc[:,\"High\"]==0,\"High\"]= df2.High.median()"
   ]
  },
  {
   "cell_type": "code",
   "execution_count": 13,
   "metadata": {},
   "outputs": [
    {
     "data": {
      "text/html": [
       "<div>\n",
       "<style scoped>\n",
       "    .dataframe tbody tr th:only-of-type {\n",
       "        vertical-align: middle;\n",
       "    }\n",
       "\n",
       "    .dataframe tbody tr th {\n",
       "        vertical-align: top;\n",
       "    }\n",
       "\n",
       "    .dataframe thead th {\n",
       "        text-align: right;\n",
       "    }\n",
       "</style>\n",
       "<table border=\"1\" class=\"dataframe\">\n",
       "  <thead>\n",
       "    <tr style=\"text-align: right;\">\n",
       "      <th></th>\n",
       "      <th>High</th>\n",
       "      <th>Low</th>\n",
       "      <th>Open</th>\n",
       "      <th>Close</th>\n",
       "      <th>Volume</th>\n",
       "      <th>Adj Close</th>\n",
       "    </tr>\n",
       "    <tr>\n",
       "      <th>Date</th>\n",
       "      <th></th>\n",
       "      <th></th>\n",
       "      <th></th>\n",
       "      <th></th>\n",
       "      <th></th>\n",
       "      <th></th>\n",
       "    </tr>\n",
       "  </thead>\n",
       "  <tbody>\n",
       "    <tr>\n",
       "      <th>2018-01-02</th>\n",
       "      <td>17.68</td>\n",
       "      <td>16.21</td>\n",
       "      <td>16.21</td>\n",
       "      <td>17.67</td>\n",
       "      <td>57186488</td>\n",
       "      <td>17.57</td>\n",
       "    </tr>\n",
       "    <tr>\n",
       "      <th>2018-01-03</th>\n",
       "      <td>17.89</td>\n",
       "      <td>17.38</td>\n",
       "      <td>17.49</td>\n",
       "      <td>17.58</td>\n",
       "      <td>41095849</td>\n",
       "      <td>17.48</td>\n",
       "    </tr>\n",
       "    <tr>\n",
       "      <th>2018-01-04</th>\n",
       "      <td>19.14</td>\n",
       "      <td>17.86</td>\n",
       "      <td>17.86</td>\n",
       "      <td>18.87</td>\n",
       "      <td>52611597</td>\n",
       "      <td>18.76</td>\n",
       "    </tr>\n",
       "    <tr>\n",
       "      <th>2018-01-05</th>\n",
       "      <td>19.37</td>\n",
       "      <td>18.36</td>\n",
       "      <td>18.59</td>\n",
       "      <td>19.09</td>\n",
       "      <td>35511195</td>\n",
       "      <td>18.99</td>\n",
       "    </tr>\n",
       "    <tr>\n",
       "      <th>2018-01-08</th>\n",
       "      <td>20.29</td>\n",
       "      <td>18.57</td>\n",
       "      <td>18.57</td>\n",
       "      <td>20.16</td>\n",
       "      <td>34920065</td>\n",
       "      <td>20.05</td>\n",
       "    </tr>\n",
       "  </tbody>\n",
       "</table>\n",
       "</div>"
      ],
      "text/plain": [
       "             High    Low   Open  Close    Volume  Adj Close\n",
       "Date                                                       \n",
       "2018-01-02  17.68  16.21  16.21  17.67  57186488      17.57\n",
       "2018-01-03  17.89  17.38  17.49  17.58  41095849      17.48\n",
       "2018-01-04  19.14  17.86  17.86  18.87  52611597      18.76\n",
       "2018-01-05  19.37  18.36  18.59  19.09  35511195      18.99\n",
       "2018-01-08  20.29  18.57  18.57  20.16  34920065      20.05"
      ]
     },
     "execution_count": 13,
     "metadata": {},
     "output_type": "execute_result"
    }
   ],
   "source": [
    "df2.head()"
   ]
  },
  {
   "cell_type": "code",
   "execution_count": 14,
   "metadata": {},
   "outputs": [
    {
     "data": {
      "text/plain": [
       "17.685000000000002"
      ]
     },
     "execution_count": 14,
     "metadata": {},
     "output_type": "execute_result"
    }
   ],
   "source": [
    "df2.High.median()"
   ]
  },
  {
   "cell_type": "code",
   "execution_count": null,
   "metadata": {},
   "outputs": [],
   "source": []
  }
 ],
 "metadata": {
  "kernelspec": {
   "display_name": "Python 3",
   "language": "python",
   "name": "python3"
  },
  "language_info": {
   "codemirror_mode": {
    "name": "ipython",
    "version": 3
   },
   "file_extension": ".py",
   "mimetype": "text/x-python",
   "name": "python",
   "nbconvert_exporter": "python",
   "pygments_lexer": "ipython3",
   "version": "3.6.4"
  }
 },
 "nbformat": 4,
 "nbformat_minor": 2
}
